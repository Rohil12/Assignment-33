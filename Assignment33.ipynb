{
 "cells": [
  {
   "cell_type": "code",
   "execution_count": 1,
   "id": "732a9a34-5597-4bf9-be39-0cc83846356b",
   "metadata": {},
   "outputs": [
    {
     "data": {
      "text/plain": [
       "'The t-test and z-test are both statistical methods used to determine if there is a significant difference between the means of two groups. However, they are used under different conditions:\\n\\nt-test\\nDistribution: Based on the Student’s t-distribution.\\nSample Size: Typically used when the sample size is small (n < 30).\\nPopulation Variance: Used when the population variance is unknown.\\nExample Scenario: Suppose you want to compare the average test scores of two small classes (each with 20 students) to see if there is a significant difference. Since the sample size is small and the population variance is unknown, a t-test would be appropriate.\\n\\nz-test\\nDistribution: Based on the standard normal distribution (z-distribution).\\nSample Size: Typically used when the sample size is large (n ≥ 30).\\nPopulation Variance: Used when the population variance is known.\\nExample Scenario: Imagine you are comparing the average heights of men in two large cities, with each sample containing 1000 individuals. If the population variance is known, a z-test would be suitable for this comparison.'"
      ]
     },
     "execution_count": 1,
     "metadata": {},
     "output_type": "execute_result"
    }
   ],
   "source": [
    "#Q.1\n",
    "\"\"\"The t-test and z-test are both statistical methods used to determine if there is a significant difference between the means of two groups. However, they are used under different conditions:\n",
    "\n",
    "t-test\n",
    "Distribution: Based on the Student’s t-distribution.\n",
    "Sample Size: Typically used when the sample size is small (n < 30).\n",
    "Population Variance: Used when the population variance is unknown.\n",
    "Example Scenario: Suppose you want to compare the average test scores of two small classes (each with 20 students) to see if there is a significant difference. Since the sample size is small and the population variance is unknown, a t-test would be appropriate.\n",
    "\n",
    "z-test\n",
    "Distribution: Based on the standard normal distribution (z-distribution).\n",
    "Sample Size: Typically used when the sample size is large (n ≥ 30).\n",
    "Population Variance: Used when the population variance is known.\n",
    "Example Scenario: Imagine you are comparing the average heights of men in two large cities, with each sample containing 1000 individuals. If the population variance is known, a z-test would be suitable for this comparison.\"\"\""
   ]
  },
  {
   "cell_type": "code",
   "execution_count": 2,
   "id": "dada0838-1b5f-45e8-a57b-5a12e1cb803c",
   "metadata": {},
   "outputs": [
    {
     "data": {
      "text/plain": [
       "'Directionality: One-tailed tests are directional (greater than or less than), while two-tailed tests are non-directional (different from).\\nCritical Region: In a one-tailed test, the critical region is in one tail of the distribution. In a two-tailed test, it is split between both tails.\\nSignificance Level: For a given significance level (e.g., 0.05), the entire alpha level is in one tail for a one-tailed test, while it is split (0.025 in each tail) for a two-tailed test.'"
      ]
     },
     "execution_count": 2,
     "metadata": {},
     "output_type": "execute_result"
    }
   ],
   "source": [
    "# Q.2\n",
    "\"\"\"Directionality: One-tailed tests are directional (greater than or less than), while two-tailed tests are non-directional (different from).\n",
    "Critical Region: In a one-tailed test, the critical region is in one tail of the distribution. In a two-tailed test, it is split between both tails.\n",
    "Significance Level: For a given significance level (e.g., 0.05), the entire alpha level is in one tail for a one-tailed test, while it is split (0.025 in each tail) for a two-tailed test.\"\"\""
   ]
  },
  {
   "cell_type": "code",
   "execution_count": 1,
   "id": "a9b7d5e9-85bf-45f8-bab7-a7c63d2e8ac6",
   "metadata": {},
   "outputs": [
    {
     "data": {
      "text/plain": [
       "'Type 1 Error (False Positive): This occurs when you reject the null hypothesis when it is actually true. It\\'s like a false alarm. Example: Imagine a medical test to detect a disease. If the test result indicates that the person has the disease, but they are actually healthy, that\\'s a Type 1 error.\\n\\nType 2 Error (False Negative): This happens when you fail to reject the null hypothesis when it is actually false. Essentially, it\\'s a missed detection. Example: Using the same medical test scenario, if the test result says that the person is healthy, but they actually have the disease, that\\'s a Type 2 error.\\n\\nBasically, in hypothesis testing:\\n\\nType 1 is yelling \"Fire!\" when there\\'s none.\\n\\nType 2 is ignoring the smoke when the fire\\'s just starting.'"
      ]
     },
     "execution_count": 1,
     "metadata": {},
     "output_type": "execute_result"
    }
   ],
   "source": [
    "#Q.3\n",
    "\"\"\"Type 1 Error (False Positive): This occurs when you reject the null hypothesis when it is actually true. It's like a false alarm. Example: Imagine a medical test to detect a disease. If the test result indicates that the person has the disease, but they are actually healthy, that's a Type 1 error.\n",
    "\n",
    "Type 2 Error (False Negative): This happens when you fail to reject the null hypothesis when it is actually false. Essentially, it's a missed detection. Example: Using the same medical test scenario, if the test result says that the person is healthy, but they actually have the disease, that's a Type 2 error.\n",
    "\n",
    "Basically, in hypothesis testing:\n",
    "\n",
    "Type 1 is yelling \"Fire!\" when there's none.\n",
    "\n",
    "Type 2 is ignoring the smoke when the fire's just starting.\"\"\""
   ]
  },
  {
   "cell_type": "code",
   "execution_count": 2,
   "id": "841a1b41-cf83-4224-a443-57cfaf174b5c",
   "metadata": {},
   "outputs": [],
   "source": [
    "#Q.4\n",
    "# The bayes's theorem is a mathematical formula to caluclate a accurate probability of event occurence when another event is happening\n",
    "# The probability of event A given event B happened (p(A/B) is equal to the probabiliyt of event B given event A (p(B/A) times the probability\n",
    "# of event A(P(A)) all divided by the probability of event B(P(B).\n",
    "\n",
    "# When might you use this? Imagine you're a doctor trying to diagnose a rare disease. Bayes's theorem can help you figure out how likely a patient \n",
    "# is to have the disease based on their symptoms and test results, even if the disease is uncommon. It's a way to update your diagnosis with new information, making your decision more accurate"
   ]
  },
  {
   "cell_type": "code",
   "execution_count": 1,
   "id": "f8055e06-2f30-4d98-bea3-33ea7ebaff23",
   "metadata": {},
   "outputs": [
    {
     "data": {
      "text/plain": [
       "'Sample Mean (\\nx\\nˉ\\n): The average from your sample data.\\n\\nStandard Error (SE): This is the standard deviation (\\ns\\n) divided by the square root of the sample size (\\nn\\n).\\n\\nConfidence Level: Common levels are 90%, 95%, or 99%. The higher the confidence level, the wider the interval.\\n\\nCritical Value (\\nz\\n∗\\n): This depends on your confidence level. You can find it in statistical tables or use software.\\n\\nMargin of Error (ME): Multiply the critical value by the standard error.\\n\\nConfidence Interval: Add and subtract the margin of error from the sample mean.\\n\\nExample:\\nSuppose you want to find a 95% confidence interval for the average height of adult women. You take a sample of 100 women, find the average height to be 165 cm, and the standard deviation is 6 cm.'"
      ]
     },
     "execution_count": 1,
     "metadata": {},
     "output_type": "execute_result"
    }
   ],
   "source": [
    "# Q.5\n",
    "# A confidence interval gives you a range in which you expect a population parameter (like a mean) to lie, with a certain level of confidence. It's like saying, \"I'm pretty sure the true value is somewhere in this range.\"\n",
    "\"\"\"Sample Mean (\n",
    "x\n",
    "ˉ\n",
    "): The average from your sample data.\n",
    "\n",
    "Standard Error (SE): This is the standard deviation (\n",
    "s\n",
    ") divided by the square root of the sample size (\n",
    "n\n",
    ").\n",
    "\n",
    "Confidence Level: Common levels are 90%, 95%, or 99%. The higher the confidence level, the wider the interval.\n",
    "\n",
    "Critical Value (\n",
    "z\n",
    "∗\n",
    "): This depends on your confidence level. You can find it in statistical tables or use software.\n",
    "\n",
    "Margin of Error (ME): Multiply the critical value by the standard error.\n",
    "\n",
    "Confidence Interval: Add and subtract the margin of error from the sample mean.\n",
    "\n",
    "Example:\n",
    "Suppose you want to find a 95% confidence interval for the average height of adult women. You take a sample of 100 women, find the average height to be 165 cm, and the standard deviation is 6 cm.\"\"\""
   ]
  },
  {
   "cell_type": "code",
   "execution_count": 1,
   "id": "093e9e48-52af-47f2-8d0e-407792d876e3",
   "metadata": {},
   "outputs": [
    {
     "data": {
      "text/plain": [
       "\" company conducts a drug test for its employees. 5% of employees use the drug. The test is 98% accurate, meaning:\\n\\nIf someone uses the drug, the test correctly shows positive 98% of the time.\\n\\nIf someone doesn’t use the drug, the test correctly shows negative 98% of the time.\\n\\nAn employee tests positive. What is the probability they actually use the drug?\\n\\nSolution:\\nDefine the events:\\n\\nD\\n: Employee uses the drug.\\n\\nT\\n: Test is positive.\\n\\nGiven probabilities:\\n\\nP\\n(\\nD\\n)\\n=\\n0.05\\n (probability of drug use).\\n\\nP\\n(\\nT\\n∣\\nD\\n)\\n=\\n0.98\\n (probability of a positive test given drug use).\\n\\nP\\n(\\nT\\n∣\\n∼\\nD\\n)\\n=\\n0.02\\n (probability of a positive test given no drug use).\\n\\nFind \\nP\\n(\\nT\\n)\\n (total probability of a positive test):\\n\\nUse Bayes' Theorem:\\n\\nSo, if an employee tests positive, there's roughly a 72% chance \""
      ]
     },
     "execution_count": 1,
     "metadata": {},
     "output_type": "execute_result"
    }
   ],
   "source": [
    "# Q.6 \n",
    "\"\"\" company conducts a drug test for its employees. 5% of employees use the drug. The test is 98% accurate, meaning:\n",
    "\n",
    "If someone uses the drug, the test correctly shows positive 98% of the time.\n",
    "\n",
    "If someone doesn’t use the drug, the test correctly shows negative 98% of the time.\n",
    "\n",
    "An employee tests positive. What is the probability they actually use the drug?\n",
    "\n",
    "Solution:\n",
    "Define the events:\n",
    "\n",
    "D\n",
    ": Employee uses the drug.\n",
    "\n",
    "T\n",
    ": Test is positive.\n",
    "\n",
    "Given probabilities:\n",
    "\n",
    "P\n",
    "(\n",
    "D\n",
    ")\n",
    "=\n",
    "0.05\n",
    " (probability of drug use).\n",
    "\n",
    "P\n",
    "(\n",
    "T\n",
    "∣\n",
    "D\n",
    ")\n",
    "=\n",
    "0.98\n",
    " (probability of a positive test given drug use).\n",
    "\n",
    "P\n",
    "(\n",
    "T\n",
    "∣\n",
    "∼\n",
    "D\n",
    ")\n",
    "=\n",
    "0.02\n",
    " (probability of a positive test given no drug use).\n",
    "\n",
    "Find \n",
    "P\n",
    "(\n",
    "T\n",
    ")\n",
    " (total probability of a positive test):\n",
    "\n",
    "Use Bayes' Theorem:\n",
    "\n",
    "So, if an employee tests positive, there's roughly a 72% chance \"\"\""
   ]
  },
  {
   "cell_type": "code",
   "execution_count": 2,
   "id": "7b146825-ad03-4835-a549-00dfb98eb392",
   "metadata": {},
   "outputs": [],
   "source": [
    "#Q.7\n",
    "# 95% z-test is 1.96\n",
    "# margin of error is standard deviation / square root of sample size is 0.9128\n",
    "# 1.96 * 0.128 = 1.789 \n",
    "# the 95% confidence interval is: 50−1.789 to 50+1.789"
   ]
  },
  {
   "cell_type": "code",
   "execution_count": 4,
   "id": "f3dac6ac-769f-4451-a13a-c04fa23ac60c",
   "metadata": {},
   "outputs": [
    {
     "data": {
      "text/plain": [
       "'The margin of error (ME) in a confidence interval quantifies the range around a sample \\n    estimate within which the true population parameter is expected to lie, given a certain confidence level. It gives an indication of the uncertainty of the estimate.\\n\\nEffect of Sample Size on Margin of Error:\\nAs the sample size increases, the margin of error decreases.\\n\\nThis is because a larger sample size provides more information, reducing the standard error.\\n\\nWhy?\\nThe standard error (SE) formula is:\\n\\nS\\nE\\n=\\ns\\nn\\nwhere \\ns\\n is the sample standard deviation and \\nn\\n is the sample size. As \\nn\\n increases, \\nn\\n increases, making SE smaller.\\n\\nExample:\\nImagine you’re estimating the average height of students at a university.\\n\\nSmall Sample Size: You take a sample of 25 students, and you get an average height of 170 cm with a standard deviation of 10 cm. For a 95% confidence interval, the critical value (\\nz\\n∗\\n) is 1.96.\\n\\nSo, the confidence interval is 170 ± 3.92, or 166.08 to 173.92 cm.\\n\\nLarge Sample Size: Now, you take a sample of 100 students under the same conditions.\\n\\nNow, the confidence interval is 170 ± 1.96, or 168.04 to 171.96 cm.\\n\\nBy increasing the sample size, the margin of error decreased, resulting in a narrower confidence interval, indicating more precise estimates. In real-world scenarios, like political polling or quality control in manufacturing, larger samples give more reliable estimates.'"
      ]
     },
     "execution_count": 4,
     "metadata": {},
     "output_type": "execute_result"
    }
   ],
   "source": [
    "#Q.8\n",
    "\"\"\"The margin of error (ME) in a confidence interval quantifies the range around a sample \n",
    "    estimate within which the true population parameter is expected to lie, given a certain confidence level. It gives an indication of the uncertainty of the estimate.\n",
    "\n",
    "Effect of Sample Size on Margin of Error:\n",
    "As the sample size increases, the margin of error decreases.\n",
    "\n",
    "This is because a larger sample size provides more information, reducing the standard error.\n",
    "\n",
    "Why?\n",
    "The standard error (SE) formula is:\n",
    "\n",
    "S\n",
    "E\n",
    "=\n",
    "s\n",
    "n\n",
    "where \n",
    "s\n",
    " is the sample standard deviation and \n",
    "n\n",
    " is the sample size. As \n",
    "n\n",
    " increases, \n",
    "n\n",
    " increases, making SE smaller.\n",
    "\n",
    "Example:\n",
    "Imagine you’re estimating the average height of students at a university.\n",
    "\n",
    "Small Sample Size: You take a sample of 25 students, and you get an average height of 170 cm with a standard deviation of 10 cm. For a 95% confidence interval, the critical value (\n",
    "z\n",
    "∗\n",
    ") is 1.96.\n",
    "\n",
    "So, the confidence interval is 170 ± 3.92, or 166.08 to 173.92 cm.\n",
    "\n",
    "Large Sample Size: Now, you take a sample of 100 students under the same conditions.\n",
    "\n",
    "Now, the confidence interval is 170 ± 1.96, or 168.04 to 171.96 cm.\n",
    "\n",
    "By increasing the sample size, the margin of error decreased, resulting in a narrower confidence interval, indicating more precise estimates. In real-world scenarios, like political polling or quality control in manufacturing, larger samples give more reliable estimates.\"\"\""
   ]
  },
  {
   "cell_type": "code",
   "execution_count": 5,
   "id": "fcc9ec73-4e9a-4790-812e-a51002f1c578",
   "metadata": {},
   "outputs": [
    {
     "data": {
      "text/plain": [
       "'Interpretation:\\nA z-score of 1 means the data point (75) is 1 standard deviation above the mean (70). In a standard normal distribution:\\n\\nAbout 68% of values fall within 1 standard deviation of the mean.\\n\\nYour data point is within this range, which is quite typical and not an outlier.'"
      ]
     },
     "execution_count": 5,
     "metadata": {},
     "output_type": "execute_result"
    }
   ],
   "source": [
    "# Q.9\n",
    "#The z-score tells us how many standard deviation a data point is from the mean.\n",
    "\n",
    "#z = 75-70/5 = 1\n",
    "\"\"\"Interpretation:\n",
    "A z-score of 1 means the data point (75) is 1 standard deviation above the mean (70). In a standard normal distribution:\n",
    "\n",
    "About 68% of values fall within 1 standard deviation of the mean.\n",
    "\n",
    "Your data point is within this range, which is quite typical and not an outlier.\"\"\""
   ]
  },
  {
   "cell_type": "code",
   "execution_count": 6,
   "id": "b137e6e1-fef0-4a3a-9671-419cdf97bcd0",
   "metadata": {},
   "outputs": [],
   "source": [
    "#Q.10 \n",
    "# null hypothesis there is no affect on weigh due to drug\n",
    "#  T-score is sample mean - population mean/ standard deviadtion/square root of sample size\n",
    "# 6 - 0 / 2.5 /square root(50)=6/ 0.353=16.97\n",
    "# 95% critical value = 1.676\n",
    "# 16.97>1.676 we reject the null hypothesis there is a affect of the new weight loss drug\n"
   ]
  },
  {
   "cell_type": "code",
   "execution_count": 7,
   "id": "c2d5db85-dec0-41c4-b317-0e12b1209601",
   "metadata": {},
   "outputs": [
    {
     "name": "stdout",
     "output_type": "stream",
     "text": [
      "0.608252\n",
      "0.691748\n"
     ]
    }
   ],
   "source": [
    "# Q.11\n",
    "# Calculate standard error square root (p(1-p)/n)\n",
    "# 0.65(1-.65) = 0.2275\n",
    "# 0.2275/500 = 0.000455\n",
    "# Square root (0.000455) = 0.0213\n",
    "# critical value 95% = 1.96 \n",
    "# margin of error \n",
    "ci= 1.96*0.0213\n",
    "print (0.65 - ci)\n",
    "print(0.65+ ci)"
   ]
  },
  {
   "cell_type": "code",
   "execution_count": 9,
   "id": "004e0a6e-de9c-4556-9c0a-f161dfd5ede2",
   "metadata": {},
   "outputs": [
    {
     "data": {
      "text/plain": [
       "\"Sample A: Mean (\\nX\\nˉ\\nA\\n) = 85, Standard Deviation (\\ns\\nA\\n) = 6, Sample Size (\\nn\\nA\\n) = not specified, let's assume 30.\\n\\nSample B: Mean (\\nX\\nˉ\\nB\\n) = 82, Standard Deviation (\\ns\\nB\\n) = 5, Sample Size (\\nn\\nB\\n) = not specified, let's assume 30.\\n\\nHypotheses:\\nNull Hypothesis (H0): μA=μB\\n (no significant difference).\\n\\nAlternative Hypothesis (Ha): μA≠μB\\n (significant difference).\\n\\nStep-by-Step Calculation:\\nCalculate the pooled standard deviation (Sp):\\n\\nCalculate the standard error (SE):\\n\\nCalculate the t-statistic:\\n\\nDetermine the critical value for a two-tailed test with a significance level of 0.01 and degrees of freedom (\\ndf) = nA+nB−2≈58\\n. The critical t-value (tc) is approximately 2.66.\\n\\nDecision:\\nSince the calculated t-value (2.11) is less than the critical value (2.66), we fail to reject the null hypothesis at the 0.01 significance level.\""
      ]
     },
     "execution_count": 9,
     "metadata": {},
     "output_type": "execute_result"
    }
   ],
   "source": [
    "# Q.12\n",
    "\"\"\"Sample A: Mean (\n",
    "X\n",
    "ˉ\n",
    "A\n",
    ") = 85, Standard Deviation (\n",
    "s\n",
    "A\n",
    ") = 6, Sample Size (\n",
    "n\n",
    "A\n",
    ") = not specified, let's assume 30.\n",
    "\n",
    "Sample B: Mean (\n",
    "X\n",
    "ˉ\n",
    "B\n",
    ") = 82, Standard Deviation (\n",
    "s\n",
    "B\n",
    ") = 5, Sample Size (\n",
    "n\n",
    "B\n",
    ") = not specified, let's assume 30.\n",
    "\n",
    "Hypotheses:\n",
    "Null Hypothesis (H0): μA=μB\n",
    " (no significant difference).\n",
    "\n",
    "Alternative Hypothesis (Ha): μA≠μB\n",
    " (significant difference).\n",
    "\n",
    "Step-by-Step Calculation:\n",
    "Calculate the pooled standard deviation (Sp):\n",
    "\n",
    "Calculate the standard error (SE):\n",
    "\n",
    "Calculate the t-statistic:\n",
    "\n",
    "Determine the critical value for a two-tailed test with a significance level of 0.01 and degrees of freedom (\n",
    "df) = nA+nB−2≈58\n",
    ". The critical t-value (tc) is approximately 2.66.\n",
    "\n",
    "Decision:\n",
    "Since the calculated t-value (2.11) is less than the critical value (2.66), we fail to reject the null hypothesis at the 0.01 significance level.\"\"\""
   ]
  },
  {
   "cell_type": "code",
   "execution_count": 18,
   "id": "f12c13c5-a234-4e97-8261-4bc1aaf48bbe",
   "metadata": {},
   "outputs": [
    {
     "name": "stdout",
     "output_type": "stream",
     "text": [
      "63.13889495191701 66.86110504808299\n"
     ]
    }
   ],
   "source": [
    "# Q.13\n",
    "# confidence interval standard deviation / square root sample size 8/square root(50) = 1.131370849898476\n",
    "# 90 z test = 1.645\n",
    "# 1.645*1.131370849898476\n",
    "print (65-1.8611050480829932,\n",
    "65+1.8611050480829932)"
   ]
  },
  {
   "cell_type": "code",
   "execution_count": 22,
   "id": "72e409aa-7dad-4017-af00-980a58629d9f",
   "metadata": {},
   "outputs": [
    {
     "data": {
      "text/plain": [
       "'Step 1: State the hypotheses\\n\\nNull hypothesis (H₀): Caffeine has no effect on reaction time. (μ = 0.25 seconds)\\nAlternative hypothesis (H₁): Caffeine has an effect on reaction time. (μ ≠ 0.25 seconds) \\xa0 \\nStep 2: Determine the significance level (α)\\n\\nα = 0.10 (since we want a 90% confidence level)\\n\\nStep 3: Calculate the t-statistic\\n\\nThe formula for the t-statistic is:\\n\\nt = (x̄ - μ) / (s / √n)\\nwhere:\\n\\nx̄ = sample mean = 0.25 seconds\\nμ = hypothesized population mean = 0.25 seconds\\ns = sample standard deviation = 0.05 seconds\\nn = sample size = 30\\nPlugging in the values, we get:\\n\\nt = (0.25 - 0.25) / (0.05 / √30) = 0\\nStep 4: Determine the degrees of freedom (df)\\n\\ndf = n - 1 = 30 - 1 = 29\\n\\nStep 5: Find the critical t-value\\n\\nUsing a t-distribution table or calculator, we find the critical t-value for α/2 = 0.05 and df = 29 to be approximately ±1.699.\\n\\nStep 6: Compare the t-statistic to the critical t-value\\n\\nSince the calculated t-statistic (0) falls between the critical t-values (-1.699 and 1.699), we fail to reject the null hypothesis.\\n\\nStep 7: Draw a conclusion\\n\\nThere is not enough evidence to conclude that caffeine has a significant effect on reaction time at a 90% confidence level. \\xa0 \\n\\n'"
      ]
     },
     "execution_count": 22,
     "metadata": {},
     "output_type": "execute_result"
    }
   ],
   "source": [
    "#Q.14\n",
    "\"\"\"Step 1: State the hypotheses\n",
    "\n",
    "Null hypothesis (H₀): Caffeine has no effect on reaction time. (μ = 0.25 seconds)\n",
    "Alternative hypothesis (H₁): Caffeine has an effect on reaction time. (μ ≠ 0.25 seconds)   \n",
    "Step 2: Determine the significance level (α)\n",
    "\n",
    "α = 0.10 (since we want a 90% confidence level)\n",
    "\n",
    "Step 3: Calculate the t-statistic\n",
    "\n",
    "The formula for the t-statistic is:\n",
    "\n",
    "t = (x̄ - μ) / (s / √n)\n",
    "where:\n",
    "\n",
    "x̄ = sample mean = 0.25 seconds\n",
    "μ = hypothesized population mean = 0.25 seconds\n",
    "s = sample standard deviation = 0.05 seconds\n",
    "n = sample size = 30\n",
    "Plugging in the values, we get:\n",
    "\n",
    "t = (0.25 - 0.25) / (0.05 / √30) = 0\n",
    "Step 4: Determine the degrees of freedom (df)\n",
    "\n",
    "df = n - 1 = 30 - 1 = 29\n",
    "\n",
    "Step 5: Find the critical t-value\n",
    "\n",
    "Using a t-distribution table or calculator, we find the critical t-value for α/2 = 0.05 and df = 29 to be approximately ±1.699.\n",
    "\n",
    "Step 6: Compare the t-statistic to the critical t-value\n",
    "\n",
    "Since the calculated t-statistic (0) falls between the critical t-values (-1.699 and 1.699), we fail to reject the null hypothesis.\n",
    "\n",
    "Step 7: Draw a conclusion\n",
    "\n",
    "There is not enough evidence to conclude that caffeine has a significant effect on reaction time at a 90% confidence level.   \n",
    "\n",
    "\"\"\""
   ]
  },
  {
   "cell_type": "code",
   "execution_count": null,
   "id": "d6d11586-5638-484b-a578-79c18b62b4d9",
   "metadata": {},
   "outputs": [],
   "source": []
  }
 ],
 "metadata": {
  "kernelspec": {
   "display_name": "Python 3 (ipykernel)",
   "language": "python",
   "name": "python3"
  },
  "language_info": {
   "codemirror_mode": {
    "name": "ipython",
    "version": 3
   },
   "file_extension": ".py",
   "mimetype": "text/x-python",
   "name": "python",
   "nbconvert_exporter": "python",
   "pygments_lexer": "ipython3",
   "version": "3.11.3"
  }
 },
 "nbformat": 4,
 "nbformat_minor": 5
}
